{
 "cells": [
  {
   "cell_type": "code",
   "execution_count": 2,
   "id": "c605800f",
   "metadata": {},
   "outputs": [
    {
     "name": "stdout",
     "output_type": "stream",
     "text": [
      "The autoreload extension is already loaded. To reload it, use:\n",
      "  %reload_ext autoreload\n"
     ]
    }
   ],
   "source": [
    "%load_ext autoreload\n",
    "%autoreload 2 \n",
    "\n",
    "%matplotlib inline\n",
    "\n",
    "import torch\n",
    "from torch.utils.data import TensorDataset, DataLoader\n",
    "import pandas as pd\n",
    "import numpy as np\n",
    "import matplotlib.pyplot as plt\n",
    "import seaborn as sns\n",
    "sns.set_style(\"white\")\n",
    "sns.set_context(\"notebook\")\n",
    "\n",
    "from sklearn import preprocessing\n",
    "import pytorch_lightning as pl\n",
    "from actpred.models import ActCNNSystem\n",
    "from actpred.utils import get_threshold, get_stratified_split\n",
    "\n",
    "from scipy.stats import spearmanr\n",
    "from pytorch_lightning.callbacks import ModelCheckpoint, EarlyStopping\n",
    "from pytorch_lightning.loggers import CSVLogger, WandbLogger"
   ]
  },
  {
   "cell_type": "code",
   "execution_count": 3,
   "id": "f89d8932",
   "metadata": {},
   "outputs": [
    {
     "name": "stderr",
     "output_type": "stream",
     "text": [
      "Global seed set to 0\n"
     ]
    },
    {
     "data": {
      "text/plain": [
       "0"
      ]
     },
     "execution_count": 3,
     "metadata": {},
     "output_type": "execute_result"
    }
   ],
   "source": [
    "pl.seed_everything(0)"
   ]
  },
  {
   "cell_type": "code",
   "execution_count": 4,
   "id": "a08b1f2a",
   "metadata": {},
   "outputs": [],
   "source": [
    "# CHANGE TO POINT TO PATH ON YOUR COMPUTER!!!!\n",
    "fn = \"/storage/hunter_nisonoff/projects/activation_domain/data/OrthologTilingDFwActivities_20220131.csv\"\n",
    "df = pd.read_csv(fn)\n",
    "df = df.loc[df.Activity != 0.0]\n",
    "# average over duplicates\n",
    "df = df.groupby(\"Seq\").mean().reset_index()\n",
    "\n",
    "\n",
    "\n",
    "df = pd.read_csv(fn)\n",
    "df = df.loc[df.Activity != 0.0]\n",
    "df = df.iloc[:, 1:]\n",
    "df = df.loc[df.loc[:, ['Seq', 'Activity']].drop_duplicates().index]\n",
    "\n",
    "\n",
    "seqs = df.Seq.to_numpy()\n",
    "activity = df.Activity.to_numpy()\n",
    "thresh = 80_000\n",
    "# get binary labels based on threshold\n",
    "y_bin = (activity >= thresh).astype(np.int64).reshape(-1, 1)\n",
    "1\n",
    "\n",
    "# scale data to have mean 0 and variance 1\n",
    "y_cont = activity.reshape(-1, 1)\n",
    "scaler = preprocessing.StandardScaler().fit(y_cont)\n",
    "y_cont = scaler.transform(y_cont)\n",
    "\n",
    "\n",
    "# convert seqs to integer valued vectors\n",
    "alphabet=\"ACDEFGHIKLMNPQRSTVWY\"\n",
    "aa_to_i = {aa:i for i, aa in enumerate(alphabet)}\n",
    "i_to_aa = {i:aa for i, aa in enumerate(alphabet)}\n",
    "X = np.asarray([[aa_to_i[aa] for aa in x] for x in seqs])\n",
    "\n",
    "train, val, test = get_stratified_split(X, y_bin, y_cont, as_tensor=True)\n",
    "(X_train, y_bin_train, y_cont_train) = train\n",
    "(X_val, y_bin_val, y_cont_val) = val\n",
    "(X_test, y_bin_test, y_cont_test) = test"
   ]
  },
  {
   "cell_type": "code",
   "execution_count": 5,
   "id": "c90146b1",
   "metadata": {},
   "outputs": [
    {
     "data": {
      "image/png": "[encoded data removed]",
      "text/plain": [
       "<Figure size 576x432 with 1 Axes>"
      ]
     },
     "metadata": {},
     "output_type": "display_data"
    }
   ],
   "source": [
    "fig, ax = plt.subplots(figsize=(8,6))\n",
    "df.Activity.hist(ax=ax)\n",
    "ax.set(xlabel=\"Activity\")\n",
    "ax.set(ylabel=\"# Sequences\")\n",
    "sns.set_context('poster')"
   ]
  },
  {
   "cell_type": "code",
   "execution_count": 6,
   "id": "f09369a5",
   "metadata": {},
   "outputs": [
    {
     "name": "stderr",
     "output_type": "stream",
     "text": [
      "Global seed set to 0\n"
     ]
    }
   ],
   "source": [
    "# Create Training and Validation Datasets\n",
    "pl.seed_everything(0)\n",
    "\n",
    "bs = 128\n",
    "train_ds = TensorDataset(X_train, y_cont_train.to(torch.float))\n",
    "train_dl = DataLoader(train_ds, batch_size=bs, shuffle=True)\n",
    "\n",
    "val_ds = TensorDataset(X_val, y_cont_val.to(torch.float))\n",
    "val_dl = DataLoader(val_ds, batch_size=bs)\n"
   ]
  },
  {
   "cell_type": "code",
   "execution_count": null,
   "id": "32e54dbc",
   "metadata": {},
   "outputs": [
    {
     "name": "stderr",
     "output_type": "stream",
     "text": [
      "/anaconda3/envs/activation_hunter/lib/python3.10/site-packages/torchmetrics/utilities/prints.py:36: UserWarning: Metric `SpearmanCorrcoef` will save all targets and predictions in the buffer. For large datasets, this may lead to large memory footprint.\n",
      "  warnings.warn(*args, **kwargs)\n",
      "GPU available: True, used: True\n",
      "TPU available: False, using: 0 TPU cores\n",
      "IPU available: False, using: 0 IPUs\n",
      "HPU available: False, using: 0 HPUs\n",
      "/anaconda3/envs/activation_hunter/lib/python3.10/site-packages/pytorch_lightning/callbacks/model_checkpoint.py:608: UserWarning: Checkpoint directory /storage/hunter_nisonoff/projects/activation_domain/models exists and is not empty.\n",
      "  rank_zero_warn(f\"Checkpoint directory {dirpath} exists and is not empty.\")\n",
      "LOCAL_RANK: 0 - CUDA_VISIBLE_DEVICES: [0,1]\n",
      "\n",
      "  | Name      | Type             | Params\n",
      "-----------------------------------------------\n",
      "0 | model     | ActCNN           | 96.8 K\n",
      "1 | loss_fn   | MSELoss          | 0     \n",
      "2 | rmse      | MeanSquaredError | 0     \n",
      "3 | pearsonr  | PearsonCorrCoef  | 0     \n",
      "4 | spearmanr | SpearmanCorrCoef | 0     \n",
      "-----------------------------------------------\n",
      "96.8 K    Trainable params\n",
      "0         Non-trainable params\n",
      "96.8 K    Total params\n",
      "0.387     Total estimated model params size (MB)\n"
     ]
    },
    {
     "name": "stdout",
     "output_type": "stream",
     "text": [
      "Sanity Checking DataLoader 0:   0%|                                                                                                                                    | 0/2 [00:00<?, ?it/s]"
     ]
    },
    {
     "name": "stderr",
     "output_type": "stream",
     "text": [
      "/anaconda3/envs/activation_hunter/lib/python3.10/site-packages/pytorch_lightning/trainer/connectors/data_connector.py:240: PossibleUserWarning: The dataloader, val_dataloader 0, does not have many workers which may be a bottleneck. Consider increasing the value of the `num_workers` argument` (try 80 which is the number of cpus on this machine) in the `DataLoader` init to improve performance.\n",
      "  rank_zero_warn(\n"
     ]
    },
    {
     "name": "stdout",
     "output_type": "stream",
     "text": [
      "Sanity Checking DataLoader 0: 100%|████████████████████████████████████████████████████████████████████████████████████████████████████████████████████████████| 2/2 [00:00<00:00,  3.61it/s]val_rmse 1.4584070444107056\n",
      "val_pearsonr 0.08345243334770203\n",
      "val_spearmanr 0.09388377517461777\n",
      "                                                                                                                                                                                             "
     ]
    },
    {
     "name": "stderr",
     "output_type": "stream",
     "text": [
      "/anaconda3/envs/activation_hunter/lib/python3.10/site-packages/pytorch_lightning/trainer/connectors/data_connector.py:240: PossibleUserWarning: The dataloader, train_dataloader, does not have many workers which may be a bottleneck. Consider increasing the value of the `num_workers` argument` (try 80 which is the number of cpus on this machine) in the `DataLoader` init to improve performance.\n",
      "  rank_zero_warn(\n"
     ]
    },
    {
     "name": "stdout",
     "output_type": "stream",
     "text": [
      "Epoch 0:  88%|██████████████████████████████████████████████████████████████████████████████████████████████████████████▏             | 115/130 [00:02<00:00, 52.95it/s, loss=0.5, v_num=101]\n",
      "Validation: 0it [00:00, ?it/s]\u001b[A\n",
      "Validation DataLoader 0:   0%|                                                                                                                                        | 0/15 [00:00<?, ?it/s]\u001b[A\n",
      "Epoch 0:  89%|███████████████████████████████████████████████████████████████████████████████████████████████████████████             | 116/130 [00:02<00:00, 52.98it/s, loss=0.5, v_num=101]\u001b[A\n",
      "Epoch 0:  90%|████████████████████████████████████████████████████████████████████████████████████████████████████████████            | 117/130 [00:02<00:00, 53.26it/s, loss=0.5, v_num=101]\u001b[A\n",
      "Epoch 0:  91%|████████████████████████████████████████████████████████████████████████████████████████████████████████████▉           | 118/130 [00:02<00:00, 53.54it/s, loss=0.5, v_num=101]\u001b[A\n",
      "Epoch 0:  92%|█████████████████████████████████████████████████████████████████████████████████████████████████████████████▊          | 119/130 [00:02<00:00, 53.82it/s, loss=0.5, v_num=101]\u001b[A\n",
      "Epoch 0:  92%|██████████████████████████████████████████████████████████████████████████████████████████████████████████████▊         | 120/130 [00:02<00:00, 54.11it/s, loss=0.5, v_num=101]\u001b[A\n",
      "Epoch 0:  93%|███████████████████████████████████████████████████████████████████████████████████████████████████████████████▋        | 121/130 [00:02<00:00, 54.40it/s, loss=0.5, v_num=101]\u001b[A\n",
      "Epoch 0:  94%|████████████████████████████████████████████████████████████████████████████████████████████████████████████████▌       | 122/130 [00:02<00:00, 54.69it/s, loss=0.5, v_num=101]\u001b[A\n",
      "Epoch 0:  95%|█████████████████████████████████████████████████████████████████████████████████████████████████████████████████▌      | 123/130 [00:02<00:00, 54.99it/s, loss=0.5, v_num=101]\u001b[A\n",
      "Epoch 0:  95%|██████████████████████████████████████████████████████████████████████████████████████████████████████████████████▍     | 124/130 [00:02<00:00, 55.27it/s, loss=0.5, v_num=101]\u001b[A\n",
      "Epoch 0:  96%|███████████████████████████████████████████████████████████████████████████████████████████████████████████████████▍    | 125/130 [00:02<00:00, 55.57it/s, loss=0.5, v_num=101]\u001b[A\n",
      "Epoch 0:  97%|████████████████████████████████████████████████████████████████████████████████████████████████████████████████████▎   | 126/130 [00:02<00:00, 55.86it/s, loss=0.5, v_num=101]\u001b[A\n",
      "Epoch 0:  98%|█████████████████████████████████████████████████████████████████████████████████████████████████████████████████████▏  | 127/130 [00:02<00:00, 56.16it/s, loss=0.5, v_num=101]\u001b[A\n",
      "Epoch 0:  98%|██████████████████████████████████████████████████████████████████████████████████████████████████████████████████████▏ | 128/130 [00:02<00:00, 56.46it/s, loss=0.5, v_num=101]\u001b[A\n",
      "Epoch 0:  99%|███████████████████████████████████████████████████████████████████████████████████████████████████████████████████████ | 129/130 [00:02<00:00, 56.74it/s, loss=0.5, v_num=101]\u001b[A\n",
      "Epoch 0: 100%|████████████████████████████████████████████████████████████████████████████████████████████████████████████████████████| 130/130 [00:02<00:00, 56.88it/s, loss=0.5, v_num=101]\u001b[Aval_rmse 0.711918830871582\n",
      "val_pearsonr 0.7153893113136292\n",
      "val_spearmanr 0.6552306413650513\n",
      "Epoch 0: 100%|████████████████████████████████████████████████████████████████████████████████████████████████████████████████████████| 130/130 [00:02<00:00, 56.46it/s, loss=0.5, v_num=101]\n",
      "Epoch 1:  88%|████████████████████████████████████████████████████████████████████████████████████████████████████████▍             | 115/130 [00:04<00:00, 25.97it/s, loss=0.431, v_num=101]\u001b[A\n",
      "Validation: 0it [00:00, ?it/s]\u001b[A\n",
      "Validation DataLoader 0:   0%|                                                                                                                                        | 0/15 [00:00<?, ?it/s]\u001b[A\n",
      "Epoch 1:  89%|█████████████████████████████████████████████████████████████████████████████████████████████████████████▎            | 116/130 [00:04<00:00, 26.10it/s, loss=0.431, v_num=101]\u001b[A\n",
      "Epoch 1:  90%|██████████████████████████████████████████████████████████████████████████████████████████████████████████▏           | 117/130 [00:04<00:00, 26.29it/s, loss=0.431, v_num=101]\u001b[A\n",
      "Epoch 1:  91%|███████████████████████████████████████████████████████████████████████████████████████████████████████████           | 118/130 [00:04<00:00, 26.48it/s, loss=0.431, v_num=101]\u001b[A\n",
      "Epoch 1:  92%|████████████████████████████████████████████████████████████████████████████████████████████████████████████          | 119/130 [00:04<00:00, 26.66it/s, loss=0.431, v_num=101]\u001b[A\n",
      "Epoch 1:  92%|████████████████████████████████████████████████████████████████████████████████████████████████████████████▉         | 120/130 [00:04<00:00, 26.84it/s, loss=0.431, v_num=101]\u001b[A\n",
      "Epoch 1:  93%|█████████████████████████████████████████████████████████████████████████████████████████████████████████████▊        | 121/130 [00:04<00:00, 27.02it/s, loss=0.431, v_num=101]\u001b[A\n",
      "Epoch 1:  94%|██████████████████████████████████████████████████████████████████████████████████████████████████████████████▋       | 122/130 [00:04<00:00, 27.20it/s, loss=0.431, v_num=101]\u001b[A\n",
      "Epoch 1:  95%|███████████████████████████████████████████████████████████████████████████████████████████████████████████████▋      | 123/130 [00:04<00:00, 27.38it/s, loss=0.431, v_num=101]\u001b[A\n",
      "Epoch 1:  95%|████████████████████████████████████████████████████████████████████████████████████████████████████████████████▌     | 124/130 [00:04<00:00, 27.56it/s, loss=0.431, v_num=101]\u001b[A\n",
      "Epoch 1:  96%|█████████████████████████████████████████████████████████████████████████████████████████████████████████████████▍    | 125/130 [00:04<00:00, 27.74it/s, loss=0.431, v_num=101]\u001b[A\n",
      "Epoch 1:  97%|██████████████████████████████████████████████████████████████████████████████████████████████████████████████████▎   | 126/130 [00:04<00:00, 27.92it/s, loss=0.431, v_num=101]\u001b[A\n",
      "Epoch 1:  98%|███████████████████████████████████████████████████████████████████████████████████████████████████████████████████▎  | 127/130 [00:04<00:00, 28.10it/s, loss=0.431, v_num=101]\u001b[A\n",
      "Epoch 1:  98%|████████████████████████████████████████████████████████████████████████████████████████████████████████████████████▏ | 128/130 [00:04<00:00, 28.28it/s, loss=0.431, v_num=101]\u001b[A\n",
      "Epoch 1:  99%|█████████████████████████████████████████████████████████████████████████████████████████████████████████████████████ | 129/130 [00:04<00:00, 28.46it/s, loss=0.431, v_num=101]\u001b[A\n",
      "Epoch 1: 100%|██████████████████████████████████████████████████████████████████████████████████████████████████████████████████████| 130/130 [00:04<00:00, 28.65it/s, loss=0.431, v_num=101]\u001b[Aval_rmse 0.6900690793991089\n",
      "val_pearsonr 0.7417632341384888\n",
      "val_spearmanr 0.6614197492599487\n",
      "Epoch 1: 100%|██████████████████████████████████████████████████████████████████████████████████████████████████████████████████████| 130/130 [00:04<00:00, 28.53it/s, loss=0.431, v_num=101]\n",
      "Epoch 2:  88%|████████████████████████████████████████████████████████████████████████████████████████████████████████▍             | 115/130 [00:06<00:00, 17.30it/s, loss=0.426, v_num=101]\u001b[A\n",
      "Validation: 0it [00:00, ?it/s]\u001b[A\n",
      "Validation DataLoader 0:   0%|                                                                                                                                        | 0/15 [00:00<?, ?it/s]\u001b[A\n",
      "Epoch 2:  89%|█████████████████████████████████████████████████████████████████████████████████████████████████████████▎            | 116/130 [00:06<00:00, 17.41it/s, loss=0.426, v_num=101]\u001b[A\n",
      "Epoch 2:  90%|██████████████████████████████████████████████████████████████████████████████████████████████████████████▏           | 117/130 [00:06<00:00, 17.54it/s, loss=0.426, v_num=101]\u001b[A\n",
      "Epoch 2:  91%|███████████████████████████████████████████████████████████████████████████████████████████████████████████           | 118/130 [00:06<00:00, 17.67it/s, loss=0.426, v_num=101]\u001b[A\n"
     ]
    },
    {
     "name": "stdout",
     "output_type": "stream",
     "text": [
      "Epoch 2:  92%|████████████████████████████████████████████████████████████████████████████████████████████████████████████          | 119/130 [00:06<00:00, 17.80it/s, loss=0.426, v_num=101]\u001b[A\n",
      "Epoch 2:  92%|████████████████████████████████████████████████████████████████████████████████████████████████████████████▉         | 120/130 [00:06<00:00, 17.94it/s, loss=0.426, v_num=101]\u001b[A\n",
      "Epoch 2:  93%|█████████████████████████████████████████████████████████████████████████████████████████████████████████████▊        | 121/130 [00:06<00:00, 18.07it/s, loss=0.426, v_num=101]\u001b[A\n",
      "Epoch 2:  94%|██████████████████████████████████████████████████████████████████████████████████████████████████████████████▋       | 122/130 [00:06<00:00, 18.20it/s, loss=0.426, v_num=101]\u001b[A\n",
      "Epoch 2:  95%|███████████████████████████████████████████████████████████████████████████████████████████████████████████████▋      | 123/130 [00:06<00:00, 18.33it/s, loss=0.426, v_num=101]\u001b[A\n",
      "Epoch 2:  95%|████████████████████████████████████████████████████████████████████████████████████████████████████████████████▌     | 124/130 [00:06<00:00, 18.46it/s, loss=0.426, v_num=101]\u001b[A\n",
      "Epoch 2:  96%|█████████████████████████████████████████████████████████████████████████████████████████████████████████████████▍    | 125/130 [00:06<00:00, 18.60it/s, loss=0.426, v_num=101]\u001b[A\n",
      "Epoch 2:  97%|██████████████████████████████████████████████████████████████████████████████████████████████████████████████████▎   | 126/130 [00:06<00:00, 18.73it/s, loss=0.426, v_num=101]\u001b[A\n",
      "Epoch 2:  98%|███████████████████████████████████████████████████████████████████████████████████████████████████████████████████▎  | 127/130 [00:06<00:00, 18.86it/s, loss=0.426, v_num=101]\u001b[A\n",
      "Epoch 2:  98%|████████████████████████████████████████████████████████████████████████████████████████████████████████████████████▏ | 128/130 [00:06<00:00, 18.98it/s, loss=0.426, v_num=101]\u001b[A\n",
      "Epoch 2:  99%|█████████████████████████████████████████████████████████████████████████████████████████████████████████████████████ | 129/130 [00:06<00:00, 19.11it/s, loss=0.426, v_num=101]\u001b[A\n",
      "Epoch 2: 100%|██████████████████████████████████████████████████████████████████████████████████████████████████████████████████████| 130/130 [00:06<00:00, 19.24it/s, loss=0.426, v_num=101]\u001b[Aval_rmse 0.6914275884628296\n",
      "val_pearsonr 0.7368180751800537\n",
      "val_spearmanr 0.6636965274810791\n",
      "Epoch 2: 100%|██████████████████████████████████████████████████████████████████████████████████████████████████████████████████████| 130/130 [00:06<00:00, 19.19it/s, loss=0.426, v_num=101]\n",
      "Epoch 3:  88%|████████████████████████████████████████████████████████████████████████████████████████████████████████▍             | 115/130 [00:08<00:01, 12.96it/s, loss=0.373, v_num=101]\u001b[A\n",
      "Validation: 0it [00:00, ?it/s]\u001b[A\n",
      "Validation DataLoader 0:   0%|                                                                                                                                        | 0/15 [00:00<?, ?it/s]\u001b[A\n",
      "Epoch 3:  89%|█████████████████████████████████████████████████████████████████████████████████████████████████████████▎            | 116/130 [00:08<00:01, 13.05it/s, loss=0.373, v_num=101]\u001b[A\n",
      "Epoch 3:  90%|██████████████████████████████████████████████████████████████████████████████████████████████████████████▏           | 117/130 [00:08<00:00, 13.15it/s, loss=0.373, v_num=101]\u001b[A\n",
      "Epoch 3:  91%|███████████████████████████████████████████████████████████████████████████████████████████████████████████           | 118/130 [00:08<00:00, 13.25it/s, loss=0.373, v_num=101]\u001b[A\n",
      "Epoch 3:  92%|████████████████████████████████████████████████████████████████████████████████████████████████████████████          | 119/130 [00:08<00:00, 13.35it/s, loss=0.373, v_num=101]\u001b[A\n",
      "Epoch 3:  92%|████████████████████████████████████████████████████████████████████████████████████████████████████████████▉         | 120/130 [00:08<00:00, 13.46it/s, loss=0.373, v_num=101]\u001b[A\n",
      "Epoch 3:  93%|█████████████████████████████████████████████████████████████████████████████████████████████████████████████▊        | 121/130 [00:08<00:00, 13.56it/s, loss=0.373, v_num=101]\u001b[A\n",
      "Epoch 3:  94%|██████████████████████████████████████████████████████████████████████████████████████████████████████████████▋       | 122/130 [00:08<00:00, 13.66it/s, loss=0.373, v_num=101]\u001b[A\n",
      "Epoch 3:  95%|███████████████████████████████████████████████████████████████████████████████████████████████████████████████▋      | 123/130 [00:08<00:00, 13.76it/s, loss=0.373, v_num=101]\u001b[A\n",
      "Epoch 3:  95%|████████████████████████████████████████████████████████████████████████████████████████████████████████████████▌     | 124/130 [00:08<00:00, 13.86it/s, loss=0.373, v_num=101]\u001b[A\n",
      "Epoch 3:  96%|█████████████████████████████████████████████████████████████████████████████████████████████████████████████████▍    | 125/130 [00:08<00:00, 13.96it/s, loss=0.373, v_num=101]\u001b[A\n",
      "Epoch 3:  97%|██████████████████████████████████████████████████████████████████████████████████████████████████████████████████▎   | 126/130 [00:08<00:00, 14.06it/s, loss=0.373, v_num=101]\u001b[A\n",
      "Epoch 3:  98%|███████████████████████████████████████████████████████████████████████████████████████████████████████████████████▎  | 127/130 [00:08<00:00, 14.16it/s, loss=0.373, v_num=101]\u001b[A\n",
      "Epoch 3:  98%|████████████████████████████████████████████████████████████████████████████████████████████████████████████████████▏ | 128/130 [00:08<00:00, 14.27it/s, loss=0.373, v_num=101]\u001b[A\n",
      "Epoch 3:  99%|█████████████████████████████████████████████████████████████████████████████████████████████████████████████████████ | 129/130 [00:08<00:00, 14.37it/s, loss=0.373, v_num=101]\u001b[A\n",
      "Epoch 3: 100%|██████████████████████████████████████████████████████████████████████████████████████████████████████████████████████| 130/130 [00:08<00:00, 14.47it/s, loss=0.373, v_num=101]\u001b[Aval_rmse 0.674645721912384\n",
      "val_pearsonr 0.7527329325675964\n",
      "val_spearmanr 0.6879444122314453\n",
      "Epoch 3: 100%|██████████████████████████████████████████████████████████████████████████████████████████████████████████████████████| 130/130 [00:09<00:00, 14.43it/s, loss=0.373, v_num=101]\n",
      "Epoch 4:  88%|████████████████████████████████████████████████████████████████████████████████████████████████████████▍             | 115/130 [00:11<00:01, 10.35it/s, loss=0.378, v_num=101]\u001b[A\n",
      "Validation: 0it [00:00, ?it/s]\u001b[A\n",
      "Validation DataLoader 0:   0%|                                                                                                                                        | 0/15 [00:00<?, ?it/s]\u001b[A\n",
      "Epoch 4:  89%|█████████████████████████████████████████████████████████████████████████████████████████████████████████▎            | 116/130 [00:11<00:01, 10.43it/s, loss=0.378, v_num=101]\u001b[A\n",
      "Epoch 4:  90%|██████████████████████████████████████████████████████████████████████████████████████████████████████████▏           | 117/130 [00:11<00:01, 10.51it/s, loss=0.378, v_num=101]\u001b[A\n",
      "Epoch 4:  91%|███████████████████████████████████████████████████████████████████████████████████████████████████████████           | 118/130 [00:11<00:01, 10.59it/s, loss=0.378, v_num=101]\u001b[A\n",
      "Epoch 4:  92%|████████████████████████████████████████████████████████████████████████████████████████████████████████████          | 119/130 [00:11<00:01, 10.68it/s, loss=0.378, v_num=101]\u001b[A\n",
      "Epoch 4:  92%|████████████████████████████████████████████████████████████████████████████████████████████████████████████▉         | 120/130 [00:11<00:00, 10.76it/s, loss=0.378, v_num=101]\u001b[A\n",
      "Epoch 4:  93%|█████████████████████████████████████████████████████████████████████████████████████████████████████████████▊        | 121/130 [00:11<00:00, 10.85it/s, loss=0.378, v_num=101]\u001b[A\n",
      "Epoch 4:  94%|██████████████████████████████████████████████████████████████████████████████████████████████████████████████▋       | 122/130 [00:11<00:00, 10.93it/s, loss=0.378, v_num=101]\u001b[A\n",
      "Epoch 4:  95%|███████████████████████████████████████████████████████████████████████████████████████████████████████████████▋      | 123/130 [00:11<00:00, 11.01it/s, loss=0.378, v_num=101]\u001b[A\n"
     ]
    },
    {
     "name": "stdout",
     "output_type": "stream",
     "text": [
      "Epoch 4:  95%|████████████████████████████████████████████████████████████████████████████████████████████████████████████████▌     | 124/130 [00:11<00:00, 11.09it/s, loss=0.378, v_num=101]\u001b[A\n",
      "Epoch 4:  96%|█████████████████████████████████████████████████████████████████████████████████████████████████████████████████▍    | 125/130 [00:11<00:00, 11.18it/s, loss=0.378, v_num=101]\u001b[A\n",
      "Epoch 4:  97%|██████████████████████████████████████████████████████████████████████████████████████████████████████████████████▎   | 126/130 [00:11<00:00, 11.26it/s, loss=0.378, v_num=101]\u001b[A\n",
      "Epoch 4:  98%|███████████████████████████████████████████████████████████████████████████████████████████████████████████████████▎  | 127/130 [00:11<00:00, 11.34it/s, loss=0.378, v_num=101]\u001b[A\n",
      "Epoch 4:  98%|████████████████████████████████████████████████████████████████████████████████████████████████████████████████████▏ | 128/130 [00:11<00:00, 11.42it/s, loss=0.378, v_num=101]\u001b[A\n",
      "Epoch 4:  99%|█████████████████████████████████████████████████████████████████████████████████████████████████████████████████████ | 129/130 [00:11<00:00, 11.51it/s, loss=0.378, v_num=101]\u001b[A\n",
      "Epoch 4: 100%|██████████████████████████████████████████████████████████████████████████████████████████████████████████████████████| 130/130 [00:11<00:00, 11.59it/s, loss=0.378, v_num=101]\u001b[Aval_rmse 0.6854459643363953\n",
      "val_pearsonr 0.7490426301956177\n",
      "val_spearmanr 0.6825174689292908\n",
      "Epoch 4: 100%|██████████████████████████████████████████████████████████████████████████████████████████████████████████████████████| 130/130 [00:11<00:00, 11.57it/s, loss=0.378, v_num=101]\n",
      "Epoch 5:  88%|█████████████████████████████████████████████████████████████████████████████████████████████████████████▎             | 115/130 [00:13<00:01,  8.63it/s, loss=0.37, v_num=101]\u001b[A\n",
      "Validation: 0it [00:00, ?it/s]\u001b[A\n",
      "Validation DataLoader 0:   0%|                                                                                                                                        | 0/15 [00:00<?, ?it/s]\u001b[A\n",
      "Epoch 5:  89%|██████████████████████████████████████████████████████████████████████████████████████████████████████████▏            | 116/130 [00:13<00:01,  8.70it/s, loss=0.37, v_num=101]\u001b[A\n",
      "Epoch 5:  90%|███████████████████████████████████████████████████████████████████████████████████████████████████████████            | 117/130 [00:13<00:01,  8.77it/s, loss=0.37, v_num=101]\u001b[A\n",
      "Epoch 5:  91%|████████████████████████████████████████████████████████████████████████████████████████████████████████████           | 118/130 [00:13<00:01,  8.84it/s, loss=0.37, v_num=101]\u001b[A\n",
      "Epoch 5:  92%|████████████████████████████████████████████████████████████████████████████████████████████████████████████▉          | 119/130 [00:13<00:01,  8.91it/s, loss=0.37, v_num=101]\u001b[A\n",
      "Epoch 5:  92%|█████████████████████████████████████████████████████████████████████████████████████████████████████████████▊         | 120/130 [00:13<00:01,  8.98it/s, loss=0.37, v_num=101]\u001b[A\n",
      "Epoch 5:  93%|██████████████████████████████████████████████████████████████████████████████████████████████████████████████▊        | 121/130 [00:13<00:00,  9.05it/s, loss=0.37, v_num=101]\u001b[A\n",
      "Epoch 5:  94%|███████████████████████████████████████████████████████████████████████████████████████████████████████████████▋       | 122/130 [00:13<00:00,  9.12it/s, loss=0.37, v_num=101]\u001b[A\n",
      "Epoch 5:  95%|████████████████████████████████████████████████████████████████████████████████████████████████████████████████▌      | 123/130 [00:13<00:00,  9.19it/s, loss=0.37, v_num=101]\u001b[A\n",
      "Epoch 5:  95%|█████████████████████████████████████████████████████████████████████████████████████████████████████████████████▌     | 124/130 [00:13<00:00,  9.26it/s, loss=0.37, v_num=101]\u001b[A\n",
      "Epoch 5:  96%|██████████████████████████████████████████████████████████████████████████████████████████████████████████████████▍    | 125/130 [00:13<00:00,  9.33it/s, loss=0.37, v_num=101]\u001b[A\n",
      "Epoch 5:  97%|███████████████████████████████████████████████████████████████████████████████████████████████████████████████████▎   | 126/130 [00:13<00:00,  9.40it/s, loss=0.37, v_num=101]\u001b[A\n",
      "Epoch 5:  98%|████████████████████████████████████████████████████████████████████████████████████████████████████████████████████▎  | 127/130 [00:13<00:00,  9.47it/s, loss=0.37, v_num=101]\u001b[A\n",
      "Epoch 5:  98%|█████████████████████████████████████████████████████████████████████████████████████████████████████████████████████▏ | 128/130 [00:13<00:00,  9.54it/s, loss=0.37, v_num=101]\u001b[A\n",
      "Epoch 5:  99%|██████████████████████████████████████████████████████████████████████████████████████████████████████████████████████ | 129/130 [00:13<00:00,  9.61it/s, loss=0.37, v_num=101]\u001b[A\n",
      "Epoch 5: 100%|███████████████████████████████████████████████████████████████████████████████████████████████████████████████████████| 130/130 [00:13<00:00,  9.68it/s, loss=0.37, v_num=101]\u001b[Aval_rmse 0.6786635518074036\n",
      "val_pearsonr 0.7548851370811462\n",
      "val_spearmanr 0.691049337387085\n",
      "Epoch 5: 100%|███████████████████████████████████████████████████████████████████████████████████████████████████████████████████████| 130/130 [00:13<00:00,  9.67it/s, loss=0.37, v_num=101]\n",
      "Epoch 6:  88%|████████████████████████████████████████████████████████████████████████████████████████████████████████▍             | 115/130 [00:15<00:02,  7.41it/s, loss=0.371, v_num=101]\u001b[A\n",
      "Validation: 0it [00:00, ?it/s]\u001b[A\n",
      "Validation DataLoader 0:   0%|                                                                                                                                        | 0/15 [00:00<?, ?it/s]\u001b[A\n",
      "Epoch 6:  89%|█████████████████████████████████████████████████████████████████████████████████████████████████████████▎            | 116/130 [00:15<00:01,  7.47it/s, loss=0.371, v_num=101]\u001b[A\n",
      "Epoch 6:  90%|██████████████████████████████████████████████████████████████████████████████████████████████████████████▏           | 117/130 [00:15<00:01,  7.53it/s, loss=0.371, v_num=101]\u001b[A\n",
      "Epoch 6:  91%|███████████████████████████████████████████████████████████████████████████████████████████████████████████           | 118/130 [00:15<00:01,  7.59it/s, loss=0.371, v_num=101]\u001b[A\n",
      "Epoch 6:  92%|████████████████████████████████████████████████████████████████████████████████████████████████████████████          | 119/130 [00:15<00:01,  7.65it/s, loss=0.371, v_num=101]\u001b[A\n",
      "Epoch 6:  92%|████████████████████████████████████████████████████████████████████████████████████████████████████████████▉         | 120/130 [00:15<00:01,  7.71it/s, loss=0.371, v_num=101]\u001b[A\n",
      "Epoch 6:  93%|█████████████████████████████████████████████████████████████████████████████████████████████████████████████▊        | 121/130 [00:15<00:01,  7.78it/s, loss=0.371, v_num=101]\u001b[A\n",
      "Epoch 6:  94%|██████████████████████████████████████████████████████████████████████████████████████████████████████████████▋       | 122/130 [00:15<00:01,  7.84it/s, loss=0.371, v_num=101]\u001b[A\n",
      "Epoch 6:  95%|███████████████████████████████████████████████████████████████████████████████████████████████████████████████▋      | 123/130 [00:15<00:00,  7.90it/s, loss=0.371, v_num=101]\u001b[A\n",
      "Epoch 6:  95%|████████████████████████████████████████████████████████████████████████████████████████████████████████████████▌     | 124/130 [00:15<00:00,  7.96it/s, loss=0.371, v_num=101]\u001b[A\n",
      "Epoch 6:  96%|█████████████████████████████████████████████████████████████████████████████████████████████████████████████████▍    | 125/130 [00:15<00:00,  8.02it/s, loss=0.371, v_num=101]\u001b[A\n",
      "Epoch 6:  97%|██████████████████████████████████████████████████████████████████████████████████████████████████████████████████▎   | 126/130 [00:15<00:00,  8.08it/s, loss=0.371, v_num=101]\u001b[A\n",
      "Epoch 6:  98%|███████████████████████████████████████████████████████████████████████████████████████████████████████████████████▎  | 127/130 [00:15<00:00,  8.14it/s, loss=0.371, v_num=101]\u001b[A\n",
      "Epoch 6:  98%|████████████████████████████████████████████████████████████████████████████████████████████████████████████████████▏ | 128/130 [00:15<00:00,  8.20it/s, loss=0.371, v_num=101]\u001b[A\n"
     ]
    },
    {
     "name": "stdout",
     "output_type": "stream",
     "text": [
      "Epoch 6:  99%|█████████████████████████████████████████████████████████████████████████████████████████████████████████████████████ | 129/130 [00:15<00:00,  8.26it/s, loss=0.371, v_num=101]\u001b[A\n",
      "Epoch 6: 100%|██████████████████████████████████████████████████████████████████████████████████████████████████████████████████████| 130/130 [00:15<00:00,  8.32it/s, loss=0.371, v_num=101]\u001b[Aval_rmse 0.666961669921875\n",
      "val_pearsonr 0.7553852796554565\n",
      "val_spearmanr 0.6959668397903442\n",
      "Epoch 6: 100%|██████████████████████████████████████████████████████████████████████████████████████████████████████████████████████| 130/130 [00:15<00:00,  8.31it/s, loss=0.371, v_num=101]\n",
      "Epoch 7:  88%|█████████████████████████████████████████████████████████████████████████████████████████████████████████▎             | 115/130 [00:17<00:02,  6.76it/s, loss=0.36, v_num=101]\u001b[A\n",
      "Validation: 0it [00:00, ?it/s]\u001b[A\n",
      "Validation DataLoader 0:   0%|                                                                                                                                        | 0/15 [00:00<?, ?it/s]\u001b[A\n",
      "Epoch 7:  89%|██████████████████████████████████████████████████████████████████████████████████████████████████████████▏            | 116/130 [00:17<00:02,  6.81it/s, loss=0.36, v_num=101]\u001b[A\n",
      "Epoch 7:  90%|███████████████████████████████████████████████████████████████████████████████████████████████████████████            | 117/130 [00:17<00:01,  6.87it/s, loss=0.36, v_num=101]\u001b[A\n",
      "Epoch 7:  91%|████████████████████████████████████████████████████████████████████████████████████████████████████████████           | 118/130 [00:17<00:01,  6.93it/s, loss=0.36, v_num=101]\u001b[A\n",
      "Epoch 7:  92%|████████████████████████████████████████████████████████████████████████████████████████████████████████████▉          | 119/130 [00:17<00:01,  6.98it/s, loss=0.36, v_num=101]\u001b[A\n",
      "Epoch 7:  92%|█████████████████████████████████████████████████████████████████████████████████████████████████████████████▊         | 120/130 [00:17<00:01,  7.04it/s, loss=0.36, v_num=101]\u001b[A\n",
      "Epoch 7:  93%|██████████████████████████████████████████████████████████████████████████████████████████████████████████████▊        | 121/130 [00:17<00:01,  7.10it/s, loss=0.36, v_num=101]\u001b[A\n",
      "Epoch 7:  94%|███████████████████████████████████████████████████████████████████████████████████████████████████████████████▋       | 122/130 [00:17<00:01,  7.15it/s, loss=0.36, v_num=101]\u001b[A\n",
      "Epoch 7:  95%|████████████████████████████████████████████████████████████████████████████████████████████████████████████████▌      | 123/130 [00:17<00:00,  7.21it/s, loss=0.36, v_num=101]\u001b[A\n",
      "Epoch 7:  95%|█████████████████████████████████████████████████████████████████████████████████████████████████████████████████▌     | 124/130 [00:17<00:00,  7.26it/s, loss=0.36, v_num=101]\u001b[A\n",
      "Epoch 7:  96%|██████████████████████████████████████████████████████████████████████████████████████████████████████████████████▍    | 125/130 [00:17<00:00,  7.32it/s, loss=0.36, v_num=101]\u001b[A\n",
      "Epoch 7:  97%|███████████████████████████████████████████████████████████████████████████████████████████████████████████████████▎   | 126/130 [00:17<00:00,  7.38it/s, loss=0.36, v_num=101]\u001b[A\n",
      "Epoch 7:  98%|████████████████████████████████████████████████████████████████████████████████████████████████████████████████████▎  | 127/130 [00:17<00:00,  7.43it/s, loss=0.36, v_num=101]\u001b[A\n",
      "Epoch 7:  98%|█████████████████████████████████████████████████████████████████████████████████████████████████████████████████████▏ | 128/130 [00:17<00:00,  7.49it/s, loss=0.36, v_num=101]\u001b[A\n",
      "Epoch 7:  99%|██████████████████████████████████████████████████████████████████████████████████████████████████████████████████████ | 129/130 [00:17<00:00,  7.54it/s, loss=0.36, v_num=101]\u001b[A\n",
      "Epoch 7: 100%|███████████████████████████████████████████████████████████████████████████████████████████████████████████████████████| 130/130 [00:17<00:00,  7.60it/s, loss=0.36, v_num=101]\u001b[Aval_rmse 0.6710802316665649\n",
      "val_pearsonr 0.7519874572753906\n",
      "val_spearmanr 0.6852651834487915\n",
      "Epoch 7: 100%|███████████████████████████████████████████████████████████████████████████████████████████████████████████████████████| 130/130 [00:17<00:00,  7.59it/s, loss=0.36, v_num=101]\n",
      "Epoch 8:  41%|████████████████████████████████████████████████▌                                                                      | 53/130 [00:17<00:25,  3.00it/s, loss=0.357, v_num=101]\u001b[A"
     ]
    }
   ],
   "source": [
    "# Train Model\n",
    "kernel_size = 5\n",
    "dilation = 3 \n",
    "hidden = 64\n",
    "\n",
    "\n",
    "model = ActCNNSystem(hidden, kernel_size, dilation, num_res_blocks=3)\n",
    "dirpath=\"models\"\n",
    "csv_logger = CSVLogger('logs')\n",
    "checkpoint_callback = ModelCheckpoint(dirpath=dirpath, monitor=\"val_loss\", filename=\"min_val_loss\", save_last=True)\n",
    "patience=10\n",
    "early_stopping = EarlyStopping('val_loss', patience=patience)\n",
    "\n",
    "trainer = pl.Trainer(gpus=1, callbacks=[checkpoint_callback, early_stopping], logger=[csv_logger], max_epochs=100)\n",
    "trainer.fit(model, train_dataloaders=train_dl, val_dataloaders=val_dl)\n"
   ]
  },
  {
   "cell_type": "code",
   "execution_count": null,
   "id": "f0cdeede",
   "metadata": {},
   "outputs": [],
   "source": [
    "# get best model and save it\n",
    "model = model.load_from_checkpoint(checkpoint_callback.best_model_path)\n",
    "torch.save(model.cpu().state_dict(), \"adhunter.pt\")"
   ]
  },
  {
   "cell_type": "code",
   "execution_count": null,
   "id": "e8d36653",
   "metadata": {},
   "outputs": [],
   "source": [
    "# Load model \n",
    "model = ActCNNSystem(hidden, kernel_size, dilation, num_res_blocks=3)\n",
    "model.load_state_dict(torch.load(\"adhunter.pt\"))\n",
    "# put model on GPU, or ignore if you want to use CPU\n",
    "model.cuda()"
   ]
  },
  {
   "cell_type": "code",
   "execution_count": null,
   "id": "c66a1a83",
   "metadata": {},
   "outputs": [],
   "source": [
    "test_ds = TensorDataset(X_test, y_cont_test.to(torch.float))\n",
    "test_dl = DataLoader(test_ds, batch_size=bs)\n",
    "\n",
    "model.eval()\n",
    "X_test, y_test = test_ds[:]\n",
    "y_test = y_test.reshape(-1)\n",
    "with torch.no_grad():\n",
    "    y_test_hat = model(X_test).reshape(-1)\n",
    "    y_test_hat = y_test_hat.detach().numpy()\n",
    "    y_test = y_test.numpy()\n",
    "\n",
    "best_thresh = get_threshold(y_bin_test, y_test_hat)\n",
    "best_thresh_unscaled = scaler.inverse_transform(np.asarray([best_thresh]).reshape(-1, 1)).item()\n",
    "y_test_hat_bin = (y_test_hat > best_thresh).astype(np.int32)\n",
    "\n",
    "y_test_hat_unscaled = scaler.inverse_transform(y_test_hat.reshape(-1, 1)).reshape(-1)\n",
    "y_test_unscaled = scaler.inverse_transform(y_test.reshape(-1, 1)).reshape(-1)\n",
    "\n",
    "fig, ax = plt.subplots(figsize=(12,10))\n",
    "ax.scatter(y_test_hat_unscaled, y_test_unscaled, alpha=0.5)\n",
    "corr = spearmanr(y_test_hat_unscaled, y_test_unscaled).correlation\n",
    "ax.set(xlabel=\"Prediction\", ylabel=\"Experiment\", title=f\"CNN, Spearman: {corr:.3f}\")\n",
    "ax.set(xlim=(-10000, 250_000), ylim=(-10000, 250_000))\n",
    "plt.tight_layout()\n",
    "plt.axvline(x=80_000, c='green', ymax=0.345)\n",
    "plt.axhline(y=80_000, c='green', xmax=0.345)"
   ]
  },
  {
   "cell_type": "code",
   "execution_count": null,
   "id": "a3fbc7fb",
   "metadata": {},
   "outputs": [],
   "source": []
  }
 ],
 "metadata": {
  "kernelspec": {
   "display_name": "Python 3 (ipykernel)",
   "language": "python",
   "name": "python3"
  },
  "language_info": {
   "codemirror_mode": {
    "name": "ipython",
    "version": 3
   },
   "file_extension": ".py",
   "mimetype": "text/x-python",
   "name": "python",
   "nbconvert_exporter": "python",
   "pygments_lexer": "ipython3",
   "version": "3.10.4"
  },
  "name": "Train_And_Use_ADHunter.ipynb"
 },
 "nbformat": 4,
 "nbformat_minor": 5
}
